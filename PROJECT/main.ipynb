{
 "cells": [
  {
   "cell_type": "code",
   "execution_count": 1,
   "metadata": {},
   "outputs": [
    {
     "name": "stdout",
     "output_type": "stream",
     "text": [
      "Hello\n",
      "culo\n",
      "<Spreadsheet.Content.TextContent.TextContent object at 0x7fb6482bbe80>\n",
      "2\n",
      "buenas\n",
      "<Spreadsheet.Content.NumberContent.NumberContent object at 0x7fb6482b84f0>\n",
      "Hello\n",
      "2.0\n"
     ]
    }
   ],
   "source": [
    "from Spreadsheet.Spreadsheet import Spreadsheet\n",
    "\n",
    "spreadsheet = Spreadsheet(\"pito.s2v\")\n",
    "\n",
    "spreadsheet.set(\"A1\", \"Hello\")\n",
    "\n",
    "spreadsheet.set(\"A2\", \"2\")\n",
    "\n",
    "print(spreadsheet.get(\"A1\"))\n",
    "\n",
    "print(spreadsheet.get(\"A2\"))\n"
   ]
  }
 ],
 "metadata": {
  "kernelspec": {
   "display_name": "Python 3",
   "language": "python",
   "name": "python3"
  },
  "language_info": {
   "codemirror_mode": {
    "name": "ipython",
    "version": 3
   },
   "file_extension": ".py",
   "mimetype": "text/x-python",
   "name": "python",
   "nbconvert_exporter": "python",
   "pygments_lexer": "ipython3",
   "version": "3.10.12"
  }
 },
 "nbformat": 4,
 "nbformat_minor": 2
}
