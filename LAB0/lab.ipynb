{
 "cells": [
  {
   "cell_type": "markdown",
   "metadata": {},
   "source": [
    "# LAB 0\n",
    "## 1. Presentation\n",
    "To put in practice the concept of polymorphism. The UML diagram class at the last page of this document shows two different hierarchies of interfaces and classes for sorting arrays of any class. These two hierarchies and the tasks are presented in the next sessions.\n"
   ]
  },
  {
   "cell_type": "markdown",
   "metadata": {},
   "source": [
    "\n",
    "## 2. Hierarchy ComparableSorter\n",
    "Below follows a description of the components of this hierarchy as well as the tasks that you have to perform. \n",
    "1. Implement the interface `ComparableSorter `which specifies the following method: `public void sort(Comparable[] array)` This method receives an array of objects that implement the `Comparable` interface and sorts it according to the definition of the `compareTo` method defined in the class.\n",
    "2.  Implement the class `ComparableBubbleSorter`, which implements the `ComparableSorter` using the bubble `sort` algorithm in its sort method. You must look for a Java/Python implementation of this algorithm, and adapt it so that it uses the `compareTo` method specified within `Comparable` interface. \n",
    "3. Implement the class `ComparableDirInsertSorter`, which implements the `ComparableSorter` using the direct insertion sort algorithm in its sort method. You must look for a Java/Python implementation of this algorithm, and adapt it so that it uses the `compareTo` method specified within `Comparable` interface. \n",
    "4.  Implement the class `Building`, with two private attributes, one indicating its volume, and another indicating its height. Makes that this class implements the `Comparable` interface in such a way that the method `compareTo` indicates whether the volume of this building is greater, equal, or less than the volume of the building passed as argument.\n",
    "\n",
    "NOTE: the Comparable interface is defined in the Java standard distribution. Take a look to it.\n"
   ]
  },
  {
   "cell_type": "code",
   "execution_count": 1,
   "metadata": {},
   "outputs": [],
   "source": [
    "from typing import List"
   ]
  },
  {
   "cell_type": "code",
   "execution_count": 42,
   "metadata": {},
   "outputs": [],
   "source": [
    "# creem aquesta classe pq en python no hi ha la classe 'CompareTo'\n",
    "\n",
    "# 2.1. Sorter:\n",
    "class ComparableSorter: \n",
    "    @staticmethod\n",
    "    def sort(array: List[Comparable]):\n",
    "        array.sort(key=lambda x: x.compareTo(x))\n",
    "\n",
    "# 2.2. Buuble Sort: algorisme d'ordenació revisa cada element intercanviant de posició\n",
    "class ComparableBubbleSorter: \n",
    "    @staticmethod\n",
    "    def sort(array: List[Comparable]):\n",
    "        n = len(array)\n",
    "        for i in range(n):\n",
    "            swapped = False\n",
    "            for j in range(0, n-1):\n",
    "                if array[j].compareTo(array[j+1]) > 0:\n",
    "                    array[j], array[j+1] = array[j+1], array[j]\n",
    "                    swapped = True\n",
    "            if not swapped:\n",
    "                break\n",
    "\n",
    "# 2.3. DirInsertSorter:\n",
    "class ComparableDirInsertSoret:\n",
    "    @staticmethod\n",
    "    def sort(array: List[Comparable]):\n",
    "        for step in range(1, len(array)):\n",
    "            key = array[step]\n",
    "            j = step -1\n",
    "\n",
    "            while j >= 0 and key.compareTo(array[j]) < 0:\n",
    "                array[j+1] = array[j]\n",
    "                j = j - 1\n",
    "\n",
    "            array[j+1] = key\n",
    "\n",
    "# 2.4. Building, comparar mides d'un edifici, nomes fem servir la classe Comparable per comparar volums\n",
    "class Building:\n",
    "    def __init__(self, volume, height):\n",
    "        self.volume = volume\n",
    "        self.height = height\n",
    "    @staticmethod\n",
    "    def compare(build1, build2) -> int:\n",
    "        res = 0\n",
    "        res = build1.volume.compareTo(build2.volume)\n",
    "        return res\n",
    "        \n",
    "class Comparable:\n",
    "    def __init__(self, value):\n",
    "        self.value = value\n",
    "\n",
    "    def compareTo(self, other):\n",
    "        return self.value - other.value\n",
    "    \n",
    "    def __lt__(self, other):\n",
    "        return self.compareTo(other) < 0\n",
    "\n",
    "    def __le__(self, other):\n",
    "        return self.compareTo(other) <= 0\n",
    "\n",
    "    def __eq__(self, other):\n",
    "        return self.compareTo(other) == 0\n",
    "\n",
    "    def __ne__(self, other):\n",
    "        return self.compareTo(other) != 0\n",
    "\n",
    "    def __gt__(self, other):\n",
    "        return self.compareTo(other) > 0\n",
    "\n",
    "    def __ge__(self, other):\n",
    "        return self.compareTo(other) >= 0\n",
    "\n",
    "    def __str__(self):\n",
    "        return str(self.value)\n",
    "\n",
    "\n"
   ]
  },
  {
   "cell_type": "code",
   "execution_count": 47,
   "metadata": {},
   "outputs": [
    {
     "name": "stdout",
     "output_type": "stream",
     "text": [
      "ComparableSorter: Ordena la llista 4, 8, 2, 1 :\n",
      "4 8 2 1 \n",
      "\n",
      "ComparableBubbleSorter: Ordena la llista 5, 11, 1, 4 :\n",
      "1 4 5 11 \n",
      "\n",
      "ComparableBubbleSorter: Ordena la llista 0, 9, 1, 4 :\n",
      "0 1 4 9 \n",
      "\n",
      "BUILDING: Volume1 =  90 & Volume2 =  10\n",
      "Building 1 has a greater volume than Building 2\n"
     ]
    }
   ],
   "source": [
    "#Probem d'ordenar els següents valors amb 'sort()' i el 'compareTo()'\n",
    "list1 = [Comparable(4), Comparable(8), Comparable(2), Comparable(1)]\n",
    "ComparableSorter.sort(list1)\n",
    "print(\"ComparableSorter: Ordena la llista 4, 8, 2, 1 :\")\n",
    "for item in list1:\n",
    "    print(item, end=' ')\n",
    "\n",
    "list2 = [Comparable(5), Comparable(11), Comparable(1), Comparable(4)]\n",
    "ComparableBubbleSorter.sort(list2)\n",
    "print(\"\\n\\nComparableBubbleSorter: Ordena la llista 5, 11, 1, 4 :\")\n",
    "for item2 in list2:\n",
    "    print(item2, end=' ')\n",
    "\n",
    "list3 = [Comparable(0), Comparable(9), Comparable(1), Comparable(4)]\n",
    "ComparableDirInsertSoret.sort(list3)\n",
    "print(\"\\n\\nComparableBubbleSorter: Ordena la llista 0, 9, 1, 4 :\")\n",
    "for item3 in list3:\n",
    "    print(item3, end=' ')\n",
    "\n",
    "build1 = Building(Comparable(90), 30)\n",
    "build2 = Building(Comparable(10), 50)\n",
    "Building.compare(build1, build2)\n",
    "res = Building.compare(build1, build2)\n",
    "print(\"\\n\\nBUILDING: Volume1 = \", build1.volume, \"& Volume2 = \", build2.volume)\n",
    "if res > 0: \n",
    "    print(\"Building 1 has a greater volume than Building 2\")\n",
    "elif res < 0:\n",
    "    print(\"Building 1 has a less volume than Building 2\")\n",
    "else: \n",
    "    print(\"Building 1 has an equal volume than Building 2\")\n",
    "\n",
    "\n"
   ]
  },
  {
   "cell_type": "markdown",
   "metadata": {},
   "source": [
    "\n",
    "\n",
    "## 3. Hierarchy ComparatorSorter\n",
    "\n",
    "Below follows a description of the components of this hierarchy as well as the tasks that you have to perform. \n",
    "1. Implement the abstract class `ComparatorSorter` which specifies the following method: `public void sort(Object[] array)` This method receives an array of objects of any class and sorts it using the method `compareTo`(…) of an attribute that implements the `Comparator` interface. Note that this class must have a protected attribute referencing an object that implements the interface Comparator. Therefore, its constructor must have an argument that is a reference to an object implementing `Comparator`. \n",
    "2. Implement the class `ComparaTorBubbleSorter`, which implements the  using `ComparatorSorter` the bubble sort algorithm in its sort method. You must look for a Java/Python implementation of this algorithm, and adapt it so that it uses the `compare` method specified within `Comparator` interface. \n",
    "\n",
    "3. Implement the class `ComparatorDirInsertSorter`, which implements the  using the`ComparatorSorter` direct insertion sort algorithm in its sort method. You must look for a Java/Python implementation of this algorithm, and adapt it so that it uses the `compare` method specified within `Comparator` interface\n"
   ]
  },
  {
   "cell_type": "code",
   "execution_count": 49,
   "metadata": {},
   "outputs": [],
   "source": [
    "from abc import ABC, abstractmethod"
   ]
  },
  {
   "cell_type": "code",
   "execution_count": 59,
   "metadata": {},
   "outputs": [],
   "source": [
    "class Comparator:\n",
    "    def __init__(self, value):\n",
    "        self.value = value\n",
    "    \n",
    "    @abstractmethod\n",
    "    def compareTo(self, obj1, obj2):\n",
    "        pass\n",
    "\n",
    "    def __str__(self):\n",
    "        return str(self.value)\n",
    "\n",
    "\n",
    "class ComparatorSorter(ABC):\n",
    "\n",
    "    @abstractmethod\n",
    "    def sort(array):\n",
    "        array.sort(key=lambda x: x.compareTo(x))\n"
   ]
  },
  {
   "cell_type": "code",
   "execution_count": 60,
   "metadata": {},
   "outputs": [
    {
     "name": "stdout",
     "output_type": "stream",
     "text": [
      "ComparatorSorter: Ordena la llista 4, 8, 2, 1 :\n",
      "4 8 2 1 "
     ]
    }
   ],
   "source": [
    "list4 = [Comparator(4), Comparator(8), Comparator(2), Comparator(1)]\n",
    "ComparatorSorter.sort(list1)\n",
    "print(\"ComparatorSorter: Ordena la llista 4, 8, 2, 1 :\")\n",
    "for item in list4:\n",
    "    print(item, end=' ')"
   ]
  },
  {
   "cell_type": "markdown",
   "metadata": {},
   "source": [
    "\n",
    "\n",
    "## 4. Hierarchy of Comparators for Building\n",
    "Below follows a description of the components of this hierarchy as well as the tasks that you have to perform. \n",
    "1. Implement the class `BuildingVolumeComparator` which implements the interface `Comparator` . Its `compare()` method shall indicate whether the volume of the first argument is greater, equal or less than the volume of the second argument. \n",
    "2.  Implement the class `BuildingHeightComparator` which implements the interface `Comparator` . Its `compare()` method shall indicate whether the height of the first argument is greater, equal or less than the height of the second argument.\n"
   ]
  },
  {
   "cell_type": "code",
   "execution_count": null,
   "metadata": {},
   "outputs": [],
   "source": []
  },
  {
   "cell_type": "markdown",
   "metadata": {},
   "source": [
    "\n",
    "\n",
    "## 5. Client\n",
    "Implement the class Client and performs the following methods: Implement the following methods \n",
    "1. `public void sortByVolumeComparable (Building[] array,ComparableSorter sorter)` This method receives a disordered array of buildings, an object implementing `ComparableSorter`, and sorts the array. \n",
    "2. `public void sortByVolumeComparator(Building[] array, ComparatorSorter sorter)` This method receives a disordered array of buildings, an object implementing `ComparatorSorter`, and sorts the array by volume. \n",
    "3. `public void sortByHeightComparator (Building[] array, ComparatorSorter sorter) ` This method receives a disordered array of buildings, , an object implementing `ComparatorSorter`, and sorts the array by height. \n",
    "4.` public static void main(String[] args) `This method shall create arrays of Buildings of different heights and volumes at your discretion and will: \n",
    "a. Order it by volume using the Bubble algorithm and Comparable. \n",
    "b. Recreate the disordered array once more. \n",
    "c. Order it by volume using the Direct Insertion algorithm and Comparable \n",
    "d. Recreate the disordered array once more. \n",
    "e. Order it by volume using the Bubble algorithm and Comparator. \n",
    "f. Recreate the disordered array once more. \n",
    "g. Order it by volume using the Direct Insertion algorithm and Comparator\n",
    "h. Recreate the disordered array once more. \n",
    "i. Order it by height using the Bubble algorithm and Comparator. \n",
    "j. Recreate the disordered array once more. \n",
    "k. Order it by height using the Direct Insertion algorithm and Comparator \n",
    "\n",
    "It is important to note that using `Comparable` interface you can define ONLY ONE CRITERIA for ordering. However, using `Comparator`, you can define as many criteria as you need. \n",
    "\n",
    "NOTE: take into account that each method must receive a disordered array. You will have to recreate the disordered array every time."
   ]
  },
  {
   "cell_type": "code",
   "execution_count": null,
   "metadata": {},
   "outputs": [],
   "source": []
  }
 ],
 "metadata": {
  "interpreter": {
   "hash": "aee8b7b246df8f9039afb4144a1f6fd8d2ca17a180786b69acc140d282b71a49"
  },
  "kernelspec": {
   "display_name": "Python 3.11.5 64-bit",
   "language": "python",
   "name": "python3"
  },
  "language_info": {
   "codemirror_mode": {
    "name": "ipython",
    "version": 3
   },
   "file_extension": ".py",
   "mimetype": "text/x-python",
   "name": "python",
   "nbconvert_exporter": "python",
   "pygments_lexer": "ipython3",
   "version": "3.10.11"
  }
 },
 "nbformat": 4,
 "nbformat_minor": 2
}
